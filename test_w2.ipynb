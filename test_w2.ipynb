{
 "cells": [
  {
   "cell_type": "code",
   "execution_count": 1,
   "metadata": {
    "collapsed": false
   },
   "outputs": [
    {
     "name": "stdout",
     "output_type": "stream",
     "text": [
      "CPU times: user 2.3 s, sys: 152 ms, total: 2.45 s\n",
      "Wall time: 2.45 s\n"
     ]
    }
   ],
   "source": [
    "%%time\n",
    "import csv\n",
    "import pandas as pd\n",
    "import numpy as np\n",
    "\n",
    "## Load data\n",
    "with open(\"training_set.txt\", \"r\") as f:\n",
    "    reader = csv.reader(f)\n",
    "    training_set  = list(reader)\n",
    "\n",
    "training_set = [element[0].split(\" \") for element in training_set]\n",
    "\n",
    "# train\n",
    "right = pd.read_csv('graph_features_scaled_train.csv')\n",
    "del right['Unnamed: 0']\n",
    "left = pd.read_csv('training_features_6.csv', header = None)\n",
    "train = pd.concat([left, right], axis=1)\n",
    "\n",
    "X_train = train.as_matrix()\n",
    "\n",
    "y_train = [i[2] for i in training_set ]\n",
    "\n",
    "# test\n",
    "right = pd.read_csv('graph_features_scaled_test.csv')\n",
    "del right['Unnamed: 0']\n",
    "left = pd.read_csv('testing_features_6.csv', header = None)\n",
    "test = pd.concat([left, right], axis=1)\n",
    "\n",
    "X_test = test.as_matrix()\n",
    "\n"
   ]
  },
  {
   "cell_type": "code",
   "execution_count": null,
   "metadata": {
    "collapsed": false
   },
   "outputs": [],
   "source": [
    "%%time\n",
    "\n",
    "from sklearn.ensemble import (RandomTreesEmbedding, RandomForestClassifier,\n",
    "                              GradientBoostingClassifier, ExtraTreesClassifier)\n",
    "# initialize basic SVM\n",
    "clf = ExtraTreesClassifier(max_features=None, min_samples_leaf= 20, n_estimators = 500, n_jobs= 3)\n",
    "\n",
    "clf.fit(X_train, y_train)\n",
    "pred = clf.predict(X_test)"
   ]
  },
  {
   "cell_type": "code",
   "execution_count": null,
   "metadata": {
    "collapsed": false
   },
   "outputs": [],
   "source": [
    "%%time\n",
    "from sklearn import cross_validation\n",
    "\n",
    "from sklearn.ensemble import (RandomTreesEmbedding, RandomForestClassifier,\n",
    "                              GradientBoostingClassifier, ExtraTreesClassifier)\n",
    "clf = ExtraTreesClassifier(max_features=None, min_samples_leaf= 10, n_estimators = 500, n_jobs= 3)\n",
    "cv = cross_validation.cross_val_score(clf, X_train, y_train, cv=5)"
   ]
  },
  {
   "cell_type": "code",
   "execution_count": 8,
   "metadata": {
    "collapsed": false
   },
   "outputs": [
    {
     "name": "stdout",
     "output_type": "stream",
     "text": [
      "0.967451487481\n",
      "CPU times: user 39min 28s, sys: 17.2 s, total: 39min 45s\n",
      "Wall time: 10min 48s\n"
     ]
    }
   ],
   "source": [
    "%%time \n",
    "import xgboost as xgb\n",
    "from sklearn import cross_validation\n",
    "gbm = xgb.XGBClassifier(max_depth=6, n_estimators=500, learning_rate=0.01)\n",
    "cv = cross_validation.cross_val_score(gbm, X_train, y_train, cv=5)\n",
    "print np.mean(cv)"
   ]
  },
  {
   "cell_type": "code",
   "execution_count": 5,
   "metadata": {
    "collapsed": false
   },
   "outputs": [
    {
     "name": "stdout",
     "output_type": "stream",
     "text": [
      "CPU times: user 6min 4s, sys: 1.94 s, total: 6min 6s\n",
      "Wall time: 1min 33s\n"
     ]
    }
   ],
   "source": [
    "%%time\n",
    "import xgboost as xgb\n",
    "gbm = xgb.XGBClassifier(max_depth=4, n_estimators=500, learning_rate=0.05)\n",
    "gbm.fit(X_train, y_train)\n",
    "pred = gbm.predict(X_test)"
   ]
  },
  {
   "cell_type": "code",
   "execution_count": 2,
   "metadata": {
    "collapsed": false
   },
   "outputs": [
    {
     "name": "stdout",
     "output_type": "stream",
     "text": [
      "Fitting 5 folds for each of 6 candidates, totalling 30 fits\n"
     ]
    },
    {
     "name": "stderr",
     "output_type": "stream",
     "text": [
      "[Parallel(n_jobs=4)]: Done   5 tasks      | elapsed: 12.3min\n",
      "[Parallel(n_jobs=4)]: Done  10 tasks      | elapsed: 24.9min\n",
      "[Parallel(n_jobs=4)]: Done  17 tasks      | elapsed: 43.3min\n",
      "[Parallel(n_jobs=4)]: Done  30 out of  30 | elapsed: 69.9min finished\n"
     ]
    },
    {
     "name": "stdout",
     "output_type": "stream",
     "text": [
      "CPU times: user 7min 4s, sys: 4.3 s, total: 7min 8s\n",
      "Wall time: 1h 11min 30s\n",
      "[CV] n_estimators=500, learning_rate=0.05 ............................\n",
      "[CV] n_estimators=500, learning_rate=0.05 ............................\n",
      "[CV] n_estimators=500, learning_rate=0.05 ............................\n",
      "[CV] n_estimators=500, learning_rate=0.05 ............................\n",
      "[CV] ... n_estimators=500, learning_rate=0.05, score=0.967686 - 6.1min[CV] ... n_estimators=500, learning_rate=0.05, score=0.968043 - 6.0min[CV] ... n_estimators=500, learning_rate=0.05, score=0.967393 - 6.1min[CV] ... n_estimators=500, learning_rate=0.05, score=0.967677 - 6.0min\n",
      "\n",
      "\n",
      "\n",
      "[CV] n_estimators=500, learning_rate=0.05 ............................[CV] n_estimators=1000, learning_rate=0.05 ...........................[CV] n_estimators=1000, learning_rate=0.05 ...........................[CV] n_estimators=1000, learning_rate=0.05 ...........................\n",
      "\n",
      "\n",
      "\n",
      "[CV] ... n_estimators=500, learning_rate=0.05, score=0.967758 - 6.2min[CV] .. n_estimators=1000, learning_rate=0.05, score=0.967466 -12.1min[CV] .. n_estimators=1000, learning_rate=0.05, score=0.967962 -12.2min[CV] .. n_estimators=1000, learning_rate=0.05, score=0.967377 -12.3min\n",
      "\n",
      "\n",
      "\n",
      "[CV] n_estimators=1000, learning_rate=0.05 ...........................[CV] n_estimators=1000, learning_rate=0.05 ...........................[CV] n_estimators=500, learning_rate=0.01 ............................[CV] n_estimators=500, learning_rate=0.01 ............................\n",
      "\n",
      "\n",
      "\n",
      "[CV] .. n_estimators=1000, learning_rate=0.05, score=0.967596 -12.1min[CV] .. n_estimators=1000, learning_rate=0.05, score=0.967742 -12.1min[CV] ... n_estimators=500, learning_rate=0.01, score=0.966735 - 6.4min[CV] ... n_estimators=500, learning_rate=0.01, score=0.967149 - 6.5min\n",
      "\n",
      "\n",
      "\n",
      "[CV] n_estimators=500, learning_rate=0.01 ............................[CV] n_estimators=1000, learning_rate=0.01 ...........................[CV] n_estimators=500, learning_rate=0.01 ............................[CV] n_estimators=500, learning_rate=0.01 ............................\n",
      "\n",
      "\n",
      "\n",
      "[CV] ... n_estimators=500, learning_rate=0.01, score=0.966735 - 6.2min[CV] .. n_estimators=1000, learning_rate=0.01, score=0.967442 -12.8min[CV] ... n_estimators=500, learning_rate=0.01, score=0.966995 - 6.2min[CV] ... n_estimators=500, learning_rate=0.01, score=0.967287 - 6.3min\n",
      "\n",
      "\n",
      "\n",
      "[CV] n_estimators=1000, learning_rate=0.01 ...........................[CV] n_estimators=1000, learning_rate=0.01 ...........................[CV] n_estimators=1000, learning_rate=0.01 ...........................[CV] n_estimators=1000, learning_rate=0.01 ...........................\n",
      "\n",
      "\n",
      "\n",
      "[CV] .. n_estimators=1000, learning_rate=0.01, score=0.967645 -12.7min[CV] .. n_estimators=1000, learning_rate=0.01, score=0.968140 -12.3min[CV] .. n_estimators=1000, learning_rate=0.01, score=0.967393 -12.7min[CV] .. n_estimators=1000, learning_rate=0.01, score=0.967767 -12.8min\n",
      "\n",
      "\n",
      "\n",
      "[CV] n_estimators=500, learning_rate=0.001 ...........................[CV] n_estimators=1000, learning_rate=0.001 ..........................[CV] n_estimators=500, learning_rate=0.001 ...........................[CV] n_estimators=500, learning_rate=0.001 ...........................\n",
      "\n",
      "\n",
      "\n",
      "[CV] .. n_estimators=500, learning_rate=0.001, score=0.965330 - 6.2min[CV] . n_estimators=1000, learning_rate=0.001, score=0.965931 -12.9min[CV] .. n_estimators=500, learning_rate=0.001, score=0.965565 - 6.1min[CV] .. n_estimators=500, learning_rate=0.001, score=0.965232 - 6.1min\n",
      "\n",
      "\n",
      "\n",
      "[CV] n_estimators=500, learning_rate=0.001 ...........................[CV] n_estimators=1000, learning_rate=0.001 ..........................[CV] n_estimators=500, learning_rate=0.001 ...........................\n",
      "\n",
      "\n",
      "[CV] .. n_estimators=500, learning_rate=0.001, score=0.965695 - 6.1min[CV] . n_estimators=1000, learning_rate=0.001, score=0.965574 -12.4min[CV] .. n_estimators=500, learning_rate=0.001, score=0.965468 - 6.2min\n",
      "\n",
      "\n",
      "[CV] n_estimators=1000, learning_rate=0.001 ..........................[CV] n_estimators=1000, learning_rate=0.001 ..........................[CV] n_estimators=1000, learning_rate=0.001 ..........................\n",
      "\n",
      "\n",
      "[CV] . n_estimators=1000, learning_rate=0.001, score=0.965492 -12.7min[CV] . n_estimators=1000, learning_rate=0.001, score=0.965711 - 7.3min[CV] . n_estimators=1000, learning_rate=0.001, score=0.965923 -12.5min\n",
      "\n",
      "\n"
     ]
    }
   ],
   "source": [
    "%%time\n",
    "import xgboost as xgb\n",
    "from sklearn.grid_search import GridSearchCV\n",
    "parameters = {'n_estimators':[500,1000],\n",
    "        'learning_rate': [0.05, 0.01, 0.001]}\n",
    "\n",
    "clf = GridSearchCV( xgb.XGBClassifier(max_depth=4), parameters, n_jobs=4, cv=5, verbose = 10)\n",
    "clf.fit(X_train, y_train)"
   ]
  },
  {
   "cell_type": "code",
   "execution_count": 3,
   "metadata": {
    "collapsed": false
   },
   "outputs": [
    {
     "data": {
      "text/plain": [
       "0.96771143373321722"
      ]
     },
     "execution_count": 3,
     "metadata": {},
     "output_type": "execute_result"
    }
   ],
   "source": [
    "clf.best_score_ "
   ]
  },
  {
   "cell_type": "code",
   "execution_count": 4,
   "metadata": {
    "collapsed": false
   },
   "outputs": [
    {
     "data": {
      "text/plain": [
       "XGBClassifier(base_score=0.5, colsample_bylevel=1, colsample_bytree=1,\n",
       "       gamma=0, learning_rate=0.05, max_delta_step=0, max_depth=4,\n",
       "       min_child_weight=1, missing=None, n_estimators=500, nthread=-1,\n",
       "       objective='binary:logistic', reg_alpha=0, reg_lambda=1,\n",
       "       scale_pos_weight=1, seed=0, silent=True, subsample=1)"
      ]
     },
     "execution_count": 4,
     "metadata": {},
     "output_type": "execute_result"
    }
   ],
   "source": [
    "clf.best_estimator_"
   ]
  },
  {
   "cell_type": "code",
   "execution_count": 7,
   "metadata": {
    "collapsed": false
   },
   "outputs": [],
   "source": [
    "predictions_SVM = list(pred) \n",
    "predictions_SVM = zip(range(len(pred)), predictions_SVM)\n",
    "with open(\"improved_predictions2430_3.csv\",\"wb\") as pred1:\n",
    "    csv_out = csv.writer(pred1)\n",
    "    csv_out.writerow([\"ID\", \"category\"])\n",
    "    for row in predictions_SVM:\n",
    "        csv_out.writerow(row)"
   ]
  },
  {
   "cell_type": "code",
   "execution_count": null,
   "metadata": {
    "collapsed": true
   },
   "outputs": [],
   "source": []
  }
 ],
 "metadata": {
  "kernelspec": {
   "display_name": "Python 2",
   "language": "python",
   "name": "python2"
  },
  "language_info": {
   "codemirror_mode": {
    "name": "ipython",
    "version": 2
   },
   "file_extension": ".py",
   "mimetype": "text/x-python",
   "name": "python",
   "nbconvert_exporter": "python",
   "pygments_lexer": "ipython2",
   "version": "2.7.11"
  }
 },
 "nbformat": 4,
 "nbformat_minor": 0
}
